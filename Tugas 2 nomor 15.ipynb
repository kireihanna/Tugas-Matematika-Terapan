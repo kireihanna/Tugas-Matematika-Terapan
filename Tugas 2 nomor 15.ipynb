{
 "cells": [
  {
   "cell_type": "code",
   "execution_count": 2,
   "metadata": {},
   "outputs": [],
   "source": [
    "import sympy as sym\n",
    "from sympy import *\n",
    "sym.init_printing()\n",
    "\n",
    "a, b, x, y, z = sym.symbols('a b x y z')"
   ]
  },
  {
   "cell_type": "markdown",
   "metadata": {},
   "source": [
    "Berikut adalah nomor 15. Dalam soal ini digunakan 'sym.sqrt' yaitu simbol untuk penggunaan tanda akar. Setelah 'sym.sqrt' qt menambahkan angka maupun simbol (x) sehingga hasilnya akan menjadi akar dari angka atau simbol yang telah kita input. "
   ]
  },
  {
   "cell_type": "code",
   "execution_count": 15,
   "metadata": {},
   "outputs": [
    {
     "name": "stdout",
     "output_type": "stream",
     "text": [
      "Nomor 15 : \n"
     ]
    },
    {
     "data": {
      "image/png": "[encoded data removed]",
      "text/latex": [
       "$\\displaystyle - 4 \\sqrt{x} + \\frac{16}{x}$"
      ],
      "text/plain": [
       "        16\n",
       "-4⋅√x + ──\n",
       "        x "
      ]
     },
     "execution_count": 15,
     "metadata": {},
     "output_type": "execute_result"
    }
   ],
   "source": [
    "print ('Nomor 15 : ')\n",
    "g = (16/x) - 4*(sym.sqrt(x))\n",
    "g"
   ]
  },
  {
   "cell_type": "markdown",
   "metadata": {},
   "source": [
    "Jawaban dari soal nomor 15 adalah sebagai berikut. Agar program dapat menghitung soal tersebut sebagai turunan, maka kita menambahkan 'sym.Derivative' diikuti oleh soal yang akan diinput, kemudian ditambahkan '.doit' agar soal itu dapat diselesaikan oleh program"
   ]
  },
  {
   "cell_type": "code",
   "execution_count": 6,
   "metadata": {},
   "outputs": [
    {
     "data": {
      "image/png": "[encoded data removed]",
      "text/latex": [
       "$\\displaystyle - \\frac{16}{x^{2}} - \\frac{2}{\\sqrt{x}}$"
      ],
      "text/plain": [
       "  16   2 \n",
       "- ── - ──\n",
       "   2   √x\n",
       "  x      "
      ]
     },
     "execution_count": 6,
     "metadata": {},
     "output_type": "execute_result"
    }
   ],
   "source": [
    "sym.Derivative (g).doit()"
   ]
  },
  {
   "cell_type": "markdown",
   "metadata": {},
   "source": [
    "Untuk dapat menyederhanakan jawaban dari soal nomor 15, maka kita menggantikan x dengan nilai 4, sehingga program akan menghitung nilai baru yang telah diisi tersebut."
   ]
  },
  {
   "cell_type": "code",
   "execution_count": 10,
   "metadata": {},
   "outputs": [
    {
     "data": {
      "image/png": "[encoded data removed]",
      "text/latex": [
       "$\\displaystyle -4.0$"
      ],
      "text/plain": [
       "-4.00000000000000"
      ]
     },
     "execution_count": 10,
     "metadata": {},
     "output_type": "execute_result"
    }
   ],
   "source": [
    "z = (16/4)-4*(sym.sqrt(4))\n",
    "z"
   ]
  },
  {
   "cell_type": "code",
   "execution_count": null,
   "metadata": {},
   "outputs": [],
   "source": [
    "Bagian kedua yaitu sebagai berikut."
   ]
  },
  {
   "cell_type": "code",
   "execution_count": 13,
   "metadata": {},
   "outputs": [
    {
     "data": {
      "image/png": "[encoded data removed]",
      "text/latex": [
       "$\\displaystyle -2.0$"
      ],
      "text/plain": [
       "-2.00000000000000"
      ]
     },
     "execution_count": 13,
     "metadata": {},
     "output_type": "execute_result"
    }
   ],
   "source": [
    "p = (-16/4**2) - (2/sym.sqrt(4))\n",
    "p"
   ]
  },
  {
   "cell_type": "markdown",
   "metadata": {},
   "source": [
    "Sehingga apabila kita masukkan kedua nilai yang telah didapatkan di atas, maka akan muncul hasilnya yang telah disederhanakan sebagai berikut"
   ]
  },
  {
   "cell_type": "code",
   "execution_count": 16,
   "metadata": {},
   "outputs": [
    {
     "name": "stdout",
     "output_type": "stream",
     "text": [
      "Jawaban nomor 15 :\n"
     ]
    },
    {
     "data": {
      "image/png": "[encoded data removed]",
      "text/latex": [
       "$\\displaystyle 4 - 2 x$"
      ],
      "text/plain": [
       "4 - 2⋅x"
      ]
     },
     "execution_count": 16,
     "metadata": {},
     "output_type": "execute_result"
    }
   ],
   "source": [
    "print ('Jawaban nomor 15 :')\n",
    "-4 - 2*(x-4)"
   ]
  },
  {
   "cell_type": "code",
   "execution_count": null,
   "metadata": {},
   "outputs": [],
   "source": []
  }
 ],
 "metadata": {
  "kernelspec": {
   "display_name": "Python 3",
   "language": "python",
   "name": "python3"
  },
  "language_info": {
   "codemirror_mode": {
    "name": "ipython",
    "version": 3
   },
   "file_extension": ".py",
   "mimetype": "text/x-python",
   "name": "python",
   "nbconvert_exporter": "python",
   "pygments_lexer": "ipython3",
   "version": "3.7.3"
  }
 },
 "nbformat": 4,
 "nbformat_minor": 2
}
