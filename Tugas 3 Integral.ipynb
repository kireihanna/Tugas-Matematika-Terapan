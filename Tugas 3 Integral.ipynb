{
 "cells": [
  {
   "cell_type": "markdown",
   "metadata": {},
   "source": [
    "# TUGAS 3 : INTEGRAL"
   ]
  },
  {
   "cell_type": "markdown",
   "metadata": {},
   "source": [
    "Pertama - tama, sympy diimport sebagai sym, kemudian import simbol * . \"sym.init_printing\" berfungsi sebagai pernyataan untuk memunculkan soal yang telah dimasukkan. a,b,x,y,z,t,w diidentifikasi sebagai simbol, sehingga dalam penggunaannya dalam soal, tidak akan terjadi sintaks error. "
   ]
  },
  {
   "cell_type": "code",
   "execution_count": 1,
   "metadata": {},
   "outputs": [],
   "source": [
    "import sympy as sym\n",
    "from sympy import *\n",
    "sym.init_printing()\n",
    "a, b, x, y, z, t, w = sym.symbols('a b x y z t w')"
   ]
  },
  {
   "cell_type": "markdown",
   "metadata": {},
   "source": [
    "Di bawah ini adalah soal nomor 5. Perintah 'print' digunakan agar kalimat yang telah di input akan muncul pada output program pada saat dijalankan nanti. 'sym.Integral' menandakan bahwa soal yang dimasukkan adalah equasi integral. "
   ]
  },
  {
   "cell_type": "code",
   "execution_count": 2,
   "metadata": {},
   "outputs": [
    {
     "name": "stdout",
     "output_type": "stream",
     "text": [
      "Nomor 5: \n",
      "Evaluate the following equation:\n"
     ]
    },
    {
     "data": {
      "image/png": "[encoded data removed]",
      "text/latex": [
       "$\\displaystyle \\int 12 y\\, dy$"
      ],
      "text/plain": [
       "⌠        \n",
       "⎮ 12⋅y dy\n",
       "⌡        "
      ]
     },
     "execution_count": 2,
     "metadata": {},
     "output_type": "execute_result"
    }
   ],
   "source": [
    "print ('Nomor 5: ')\n",
    "print ('Evaluate the following equation:')\n",
    "sym.Integral (12*y)"
   ]
  },
  {
   "cell_type": "markdown",
   "metadata": {},
   "source": [
    "Agar program dapat memecahkan soal integral di atas, maka 'sym.Integral' kita ganti dengan 'sym.Integrate' sehingga program akan melakukan penyelesaian dari soal tersebut."
   ]
  },
  {
   "cell_type": "code",
   "execution_count": 3,
   "metadata": {},
   "outputs": [
    {
     "name": "stdout",
     "output_type": "stream",
     "text": [
      "Jawaban nomor 5: \n"
     ]
    },
    {
     "data": {
      "image/png": "[encoded data removed]",
      "text/latex": [
       "$\\displaystyle 6 y^{2}$"
      ],
      "text/plain": [
       "   2\n",
       "6⋅y "
      ]
     },
     "execution_count": 3,
     "metadata": {},
     "output_type": "execute_result"
    }
   ],
   "source": [
    "print('Jawaban nomor 5: ')\n",
    "sym.integrate (12*y)"
   ]
  },
  {
   "cell_type": "markdown",
   "metadata": {},
   "source": [
    "Kemudian berikut ini adalah soal nomor 10, yang terdiri dari pemfaktoran yang nantinya akan dikali sehingga menghasilkan satu equasi panjang. Sama seperti sebelumnya, agar program dapat memunculkan simbol integral, maka harus ditambahkan 'sym.Integral'."
   ]
  },
  {
   "cell_type": "code",
   "execution_count": 13,
   "metadata": {},
   "outputs": [
    {
     "name": "stdout",
     "output_type": "stream",
     "text": [
      "Nomor 10 :\n",
      "Evaluate the following equation:\n"
     ]
    },
    {
     "data": {
      "image/png": "[encoded data removed]",
      "text/latex": [
       "$\\displaystyle \\int \\left(4 - 3 t\\right) \\left(t^{2} - 1\\right)\\, dt$"
      ],
      "text/plain": [
       "⌠                      \n",
       "⎮           ⎛ 2    ⎞   \n",
       "⎮ (4 - 3⋅t)⋅⎝t  - 1⎠ dt\n",
       "⌡                      "
      ]
     },
     "execution_count": 13,
     "metadata": {},
     "output_type": "execute_result"
    }
   ],
   "source": [
    "print ('Nomor 10 :')\n",
    "print ('Evaluate the following equation:')\n",
    "sym.Integral ((t**2 -1)*(4 - 3*t))"
   ]
  },
  {
   "cell_type": "markdown",
   "metadata": {},
   "source": [
    "Apabila kita ingin program untuk menghitung soal tersebut, maka kita tambahkan 'sym.Integrate' pada awal sebelum memasukkan soal, sehingga akan mengeluarkan hasil sebagai berikut"
   ]
  },
  {
   "cell_type": "code",
   "execution_count": 14,
   "metadata": {},
   "outputs": [
    {
     "name": "stdout",
     "output_type": "stream",
     "text": [
      "Jawaban nomor 10: \n"
     ]
    },
    {
     "data": {
      "image/png": "[encoded data removed]",
      "text/latex": [
       "$\\displaystyle - \\frac{3 t^{4}}{4} + \\frac{4 t^{3}}{3} + \\frac{3 t^{2}}{2} - 4 t$"
      ],
      "text/plain": [
       "     4      3      2      \n",
       "  3⋅t    4⋅t    3⋅t       \n",
       "- ──── + ──── + ──── - 4⋅t\n",
       "   4      3      2        "
      ]
     },
     "execution_count": 14,
     "metadata": {},
     "output_type": "execute_result"
    }
   ],
   "source": [
    "print('Jawaban nomor 10: ')\n",
    "sym.integrate ((t**2 -1)*(4 - 3*t))"
   ]
  },
  {
   "cell_type": "markdown",
   "metadata": {},
   "source": [
    "Selanjutnya adalah nomor 15. Dalam soal ini digunakan sin,cos dan tan. Agar bisa mendapatkan nilai 2cos, maka 2 harus dikali dengan cos tersebut, menggunakan tanda *, kemudian diikuti dengan simbol yang akan kita input misalkan w"
   ]
  },
  {
   "cell_type": "code",
   "execution_count": 15,
   "metadata": {},
   "outputs": [
    {
     "name": "stdout",
     "output_type": "stream",
     "text": [
      "Nomor 15: \n",
      "Evaluate the following equation: \n"
     ]
    },
    {
     "data": {
      "image/png": "[encoded data removed]",
      "text/latex": [
       "$\\displaystyle \\int \\left(2 \\cos{\\left(w \\right)} - \\tan{\\left(w \\right)} \\sec{\\left(w \\right)}\\right)\\, dw$"
      ],
      "text/plain": [
       "⌠                              \n",
       "⎮ (2⋅cos(w) - tan(w)⋅sec(w)) dw\n",
       "⌡                              "
      ]
     },
     "execution_count": 15,
     "metadata": {},
     "output_type": "execute_result"
    }
   ],
   "source": [
    "print('Nomor 15: ')\n",
    "print ('Evaluate the following equation: ')\n",
    "sym.Integral (2*cos(w) - sec(w)*tan(w))"
   ]
  },
  {
   "cell_type": "markdown",
   "metadata": {},
   "source": [
    "Untuk mendapatkan jawaban dari program tersebut, maka sisa mengganti 'sym.Integral' menjadi 'sym.Integrate'"
   ]
  },
  {
   "cell_type": "code",
   "execution_count": 16,
   "metadata": {},
   "outputs": [
    {
     "name": "stdout",
     "output_type": "stream",
     "text": [
      "Jawaban nomor 15: \n"
     ]
    },
    {
     "data": {
      "image/png": "[encoded data removed]",
      "text/latex": [
       "$\\displaystyle 2 \\sin{\\left(w \\right)} - \\frac{1}{\\cos{\\left(w \\right)}}$"
      ],
      "text/plain": [
       "             1   \n",
       "2⋅sin(w) - ──────\n",
       "           cos(w)"
      ]
     },
     "execution_count": 16,
     "metadata": {},
     "output_type": "execute_result"
    }
   ],
   "source": [
    "print('Jawaban nomor 15: ')\n",
    "sym.integrate (2*cos(w) - sec(w)*tan(w))"
   ]
  },
  {
   "cell_type": "markdown",
   "metadata": {},
   "source": [
    "Pada soal nomor 20, ada dua pecahan yang akan ditambahkan. Pecahan ini dipisahkan terlebih dahulu, agar program tidak akan salah hitung dan agar tidak terjadinya error pada sintaks. Pada pecahan pertama, 1 bahagi x kuadrat ditambah 1. Simbol bagi ditandai dengan '/' dan pangkat adalah penggunaan tanda * sebanyak 2 kali. Kemudian pada pecahan kedua menggunakan akar yang ditandai dengan penggunaan sym.sqrt"
   ]
  },
  {
   "cell_type": "code",
   "execution_count": 44,
   "metadata": {},
   "outputs": [
    {
     "name": "stdout",
     "output_type": "stream",
     "text": [
      "Nomor 20:\n",
      "Solve the following equation: \n"
     ]
    },
    {
     "data": {
      "image/png": "[encoded data removed]",
      "text/latex": [
       "$\\displaystyle \\int \\left(\\frac{1}{x^{2} + 1} + \\frac{12}{\\sqrt{1 - x^{2}}}\\right)\\, dx$"
      ],
      "text/plain": [
       "⌠                          \n",
       "⎮ ⎛  1           12    ⎞   \n",
       "⎮ ⎜────── + ───────────⎟ dx\n",
       "⎮ ⎜ 2          ________⎟   \n",
       "⎮ ⎜x  + 1     ╱      2 ⎟   \n",
       "⎮ ⎝         ╲╱  1 - x  ⎠   \n",
       "⌡                          "
      ]
     },
     "execution_count": 44,
     "metadata": {},
     "output_type": "execute_result"
    }
   ],
   "source": [
    "print ('Nomor 20:')\n",
    "print('Solve the following equation: ')\n",
    "sym.Integral ((1/(1+x**2)) + (12/sym.sqrt(1-x**2)))"
   ]
  },
  {
   "cell_type": "markdown",
   "metadata": {},
   "source": [
    "Dengan menggunakan 'sym.Integrate' maka jawaban dari soal diatas akan keluar sebagai berikut"
   ]
  },
  {
   "cell_type": "code",
   "execution_count": 45,
   "metadata": {},
   "outputs": [
    {
     "data": {
      "image/png": "[encoded data removed]",
      "text/latex": [
       "$\\displaystyle 12 \\operatorname{asin}{\\left(x \\right)} + \\operatorname{atan}{\\left(x \\right)}$"
      ],
      "text/plain": [
       "12⋅asin(x) + atan(x)"
      ]
     },
     "execution_count": 45,
     "metadata": {},
     "output_type": "execute_result"
    }
   ],
   "source": [
    "sym.integrate ((1/(1+x**2)) + (12/sym.sqrt(1-x**2)))"
   ]
  },
  {
   "cell_type": "markdown",
   "metadata": {},
   "source": [
    "Dibawah merupakan soal tambahan. Dalam soal ini ada gabungan dari penggunaan cos dan pecahan dan akar. Awalnya, kita pisahkan kedua hal tersebut dengan menggunakan tanda '()' agar program tidak akan salah hitung. Kemudian, kita tambahkan simbol sehingga program dapat menghitung hasil dari soal tersebut."
   ]
  },
  {
   "cell_type": "code",
   "execution_count": 47,
   "metadata": {},
   "outputs": [
    {
     "name": "stdout",
     "output_type": "stream",
     "text": [
      "Tambahan soal: \n",
      " Solve the following equation :\n"
     ]
    },
    {
     "data": {
      "image/png": "[encoded data removed]",
      "text/latex": [
       "$\\displaystyle \\int \\left(6 \\cos{\\left(z \\right)} + \\frac{4}{\\sqrt{1 - z^{2}}}\\right)\\, dz$"
      ],
      "text/plain": [
       "⌠                            \n",
       "⎮ ⎛                4     ⎞   \n",
       "⎮ ⎜6⋅cos(z) + ───────────⎟ dz\n",
       "⎮ ⎜              ________⎟   \n",
       "⎮ ⎜             ╱      2 ⎟   \n",
       "⎮ ⎝           ╲╱  1 - z  ⎠   \n",
       "⌡                            "
      ]
     },
     "execution_count": 47,
     "metadata": {},
     "output_type": "execute_result"
    }
   ],
   "source": [
    "print ('Tambahan soal: ')\n",
    "print (' Solve the following equation :')\n",
    "sym.Integral ((6*cos(z)) + (4/sym.sqrt(1-z**2)))"
   ]
  },
  {
   "cell_type": "markdown",
   "metadata": {},
   "source": [
    "Jawaban yang akan diperoleh adalah berikut"
   ]
  },
  {
   "cell_type": "code",
   "execution_count": 49,
   "metadata": {},
   "outputs": [
    {
     "name": "stdout",
     "output_type": "stream",
     "text": [
      "Jawaban: \n"
     ]
    },
    {
     "data": {
      "image/png": "[encoded data removed]",
      "text/latex": [
       "$\\displaystyle 6 \\sin{\\left(z \\right)} + 4 \\operatorname{asin}{\\left(z \\right)}$"
      ],
      "text/plain": [
       "6⋅sin(z) + 4⋅asin(z)"
      ]
     },
     "execution_count": 49,
     "metadata": {},
     "output_type": "execute_result"
    }
   ],
   "source": [
    "print ('Jawaban: ')\n",
    "sym.integrate ((6*cos(z)) + (4/sym.sqrt(1-z**2)))"
   ]
  },
  {
   "cell_type": "code",
   "execution_count": null,
   "metadata": {},
   "outputs": [],
   "source": []
  }
 ],
 "metadata": {
  "kernelspec": {
   "display_name": "Python 3",
   "language": "python",
   "name": "python3"
  },
  "language_info": {
   "codemirror_mode": {
    "name": "ipython",
    "version": 3
   },
   "file_extension": ".py",
   "mimetype": "text/x-python",
   "name": "python",
   "nbconvert_exporter": "python",
   "pygments_lexer": "ipython3",
   "version": "3.7.3"
  }
 },
 "nbformat": 4,
 "nbformat_minor": 2
}
